{
 "cells": [
  {
   "cell_type": "code",
   "execution_count": null,
   "id": "bea0cb75-bfec-443b-a15b-af91ad68d31a",
   "metadata": {},
   "outputs": [],
   "source": [
    "import pandas as pd\n",
    "import glob\n",
    "import numpy as np"
   ]
  },
  {
   "cell_type": "code",
   "execution_count": null,
   "id": "01723715-4cc6-40a8-9287-e39fdac590c8",
   "metadata": {},
   "outputs": [],
   "source": [
    "df = pd.read_csv('activity-study1-filtered-v2.csv')"
   ]
  },
  {
   "cell_type": "code",
   "execution_count": null,
   "id": "58f9dce1-bbdd-4ea4-b563-a8a5f96683ea",
   "metadata": {},
   "outputs": [],
   "source": [
    "df['datetime'] = df.datetime.map(lambda x: pd.to_datetime(x))"
   ]
  },
  {
   "cell_type": "code",
   "execution_count": null,
   "id": "e8aa830e-1ea2-4820-937b-b0d0873086e5",
   "metadata": {},
   "outputs": [],
   "source": [
    "df['user'] = df['user'] + '-' + df['cohort'].map(str) "
   ]
  },
  {
   "cell_type": "code",
   "execution_count": null,
   "id": "a6da2745-7922-4164-b69c-2f065465b0a5",
   "metadata": {},
   "outputs": [],
   "source": [
    "WD = \"C:/PPSVN/Katharina/Willen Moodle Logdaten/\""
   ]
  },
  {
   "cell_type": "code",
   "execution_count": null,
   "id": "23da8111-51fc-45f9-947f-0a334d83033d",
   "metadata": {},
   "outputs": [],
   "source": [
    "glob.glob(WD+'Learning Outcomes/Final exam/*.xlsx')"
   ]
  },
  {
   "cell_type": "markdown",
   "id": "5d687a9f-78da-47e8-9974-ea8a29560184",
   "metadata": {},
   "source": [
    "## RQ1: does support lead to more regular activity and less delayed completion?"
   ]
  },
  {
   "cell_type": "code",
   "execution_count": null,
   "id": "b3f65197-2943-47d3-8363-06ead39e3a7a",
   "metadata": {},
   "outputs": [],
   "source": [
    "df2 = df.copy().reset_index(drop=True)"
   ]
  },
  {
   "cell_type": "code",
   "execution_count": null,
   "id": "63ae18cb-4ba6-4ae5-af1f-6ecc27b47aff",
   "metadata": {},
   "outputs": [],
   "source": [
    "# Sort the DataFrame by user and datetime\n",
    "df2 = df2.sort_values(by=['user', 'datetime'])\n",
    "\n",
    "# Calculate time differences in seconds\n",
    "df2['time_diff'] = df2.groupby('user')['datetime'].diff().dt.total_seconds()\n",
    "df2['intervention_group'] = df2.cohort.map(lambda x: 'intervention' if x in [5, 6] else 'control')\n",
    "\n",
    "df2 = df2.dropna(subset=['intervention_group', 'user', 'time_diff']).copy()"
   ]
  },
  {
   "cell_type": "code",
   "execution_count": null,
   "id": "e287c1f7-d8c1-4f85-ad14-5fdbc25a28aa",
   "metadata": {},
   "outputs": [],
   "source": [
    "df2['log_time_diff'] = np.log1p(df2['time_diff'])"
   ]
  },
  {
   "cell_type": "code",
   "execution_count": null,
   "id": "9c7103cb-e63e-47e7-bc77-a05c16db15ca",
   "metadata": {},
   "outputs": [],
   "source": [
    "# Plot the distribution of `time_diff`\n",
    "import matplotlib.pyplot as plt\n",
    "\n",
    "plt.figure(figsize=(8, 6))\n",
    "df2['log_time_diff'].plot(kind='hist', bins=50, alpha=0.7, color='blue', edgecolor='black')\n",
    "plt.title('Distribution of Time Differences', fontsize=16)\n",
    "plt.xlabel('Time Difference (log seconds)', fontsize=14)\n",
    "plt.ylabel('Frequency', fontsize=14)\n",
    "plt.grid(axis='y', alpha=0.75)\n",
    "plt.show()"
   ]
  },
  {
   "cell_type": "code",
   "execution_count": null,
   "id": "563e84b6-a0d3-4af9-af30-ce4139573f5a",
   "metadata": {},
   "outputs": [],
   "source": [
    "## Segment activities to represent genuine sessions (15 minutes+)\n",
    "df3 = df2[(df2['log_time_diff'] > np.log1p(15*60))].copy()"
   ]
  },
  {
   "cell_type": "code",
   "execution_count": null,
   "id": "dde78b3d-d498-45ab-8a21-904822b2f8f4",
   "metadata": {},
   "outputs": [],
   "source": [
    "plt.figure(figsize=(8, 6))\n",
    "df3['log_time_diff'].plot(kind='hist', bins=100, alpha=0.7, color='blue', edgecolor='black')\n",
    "plt.title('Distribution of Time Differences', fontsize=16)\n",
    "plt.xlabel('Time Difference (log seconds)', fontsize=14)\n",
    "plt.ylabel('Frequency', fontsize=14)\n",
    "plt.grid(axis='y', alpha=0.75)\n",
    "plt.show()"
   ]
  },
  {
   "cell_type": "code",
   "execution_count": null,
   "id": "fe3a4501-57b7-46a7-b218-15870e7177d5",
   "metadata": {},
   "outputs": [],
   "source": [
    "# Mixed-effects model to test regularity of behavior between groups\n",
    "from statsmodels.formula.api import mixedlm\n",
    "\n",
    "# Fit a mixed-effects model with random intercept for user\n",
    "model = mixedlm(\"log_time_diff ~ intervention_group\", df3, groups=df3[\"user\"])\n",
    "result = model.fit()\n",
    "\n",
    "print(result.summary())"
   ]
  },
  {
   "cell_type": "code",
   "execution_count": null,
   "id": "32d84f05-3555-406a-a82a-bf87a850500a",
   "metadata": {},
   "outputs": [],
   "source": [
    "(np.expm1(9.465 + 0.322) - np.expm1(9.465))/(np.expm1(9.465)) # Intervention effect in %"
   ]
  },
  {
   "cell_type": "code",
   "execution_count": null,
   "id": "31c3a240-96d2-4a46-af2d-6838f74c3c0f",
   "metadata": {},
   "outputs": [],
   "source": [
    "df_n = df2.groupby(['user', 'intervention_group']).size().reset_index().dropna().copy().rename(columns={0: 'n'})"
   ]
  },
  {
   "cell_type": "code",
   "execution_count": null,
   "id": "55336b22-ad8f-47d8-8a85-e520f3954dea",
   "metadata": {},
   "outputs": [],
   "source": [
    "import statsmodels.api as sm\n",
    "import statsmodels.formula.api as smf\n",
    "\n",
    "# Fit a generalized linear model with Poisson family\n",
    "model = smf.glm(\"n ~ intervention_group\", data=df_n, family=sm.families.Poisson())\n",
    "result = model.fit()\n",
    "\n",
    "# Print the model summary\n",
    "print(result.summary())"
   ]
  },
  {
   "cell_type": "markdown",
   "id": "485607a2-cd6b-422e-990f-28ebb66b38f7",
   "metadata": {},
   "source": [
    "## Replication across times of day"
   ]
  },
  {
   "cell_type": "code",
   "execution_count": null,
   "id": "86bbaad4-736c-4e8f-9f05-8d89aeb77281",
   "metadata": {},
   "outputs": [],
   "source": [
    "df4 = df3[df3['day_period']!='Unknown'].copy()"
   ]
  },
  {
   "cell_type": "code",
   "execution_count": null,
   "id": "92c29117-d04b-4299-98e9-bef1e7b52e2a",
   "metadata": {},
   "outputs": [],
   "source": [
    "# Mixed-effects model to test regularity of behavior between groups\n",
    "from statsmodels.formula.api import mixedlm\n",
    "\n",
    "# Fit a mixed-effects model with random intercept for user\n",
    "model = mixedlm(\"log_time_diff ~ intervention_group*day_period\", df4, groups=df4[\"user\"])\n",
    "result = model.fit()\n",
    "\n",
    "# Print the model summary\n",
    "print(result.summary())"
   ]
  },
  {
   "cell_type": "code",
   "execution_count": null,
   "id": "1b7dadcf-ebe1-4b47-aa23-8cdfdc7a8861",
   "metadata": {},
   "outputs": [],
   "source": [
    "df3.phase.value_counts()"
   ]
  },
  {
   "cell_type": "code",
   "execution_count": null,
   "id": "836e65d1-eae7-46c9-a92a-032ef5be3b14",
   "metadata": {},
   "outputs": [],
   "source": [
    "# Mixed-effects model to test regularity of behavior between groups\n",
    "from statsmodels.formula.api import mixedlm\n",
    "\n",
    "# Fit a mixed-effects model with random intercept for user\n",
    "model = mixedlm(\"log_time_diff ~ intervention_group*phase\", df3, groups=df3[\"user\"])\n",
    "result = model.fit()\n",
    "\n",
    "# Print the model summary\n",
    "print(result.summary())"
   ]
  },
  {
   "cell_type": "markdown",
   "id": "1bd83a51-ef62-422c-9ff7-5f5d89733676",
   "metadata": {},
   "source": [
    "### Plot"
   ]
  },
  {
   "cell_type": "code",
   "execution_count": null,
   "id": "d97d310e-0c65-4e5e-b180-a93e938121f1",
   "metadata": {},
   "outputs": [],
   "source": [
    "import seaborn as sns\n",
    "import matplotlib.pyplot as plt\n",
    "import pandas as pd\n",
    "\n",
    "# Create the plot\n",
    "plt.figure(figsize=(10, 6))\n",
    "\n",
    "# Use sns.kdeplot() with hue and palette\n",
    "sns.kdeplot(data=trimmed_df, x='time_diff', hue='intervention_group', multiple='stack', palette='Set2')\n",
    "\n",
    "# Customize the plot with title and labels\n",
    "plt.title('Density Plot by Cohort and Phase')\n",
    "plt.xlabel('Time Difference (mins)')\n",
    "plt.ylabel('Density')\n",
    "\n",
    "unique_labels = trimmed_df['intervention_group'].unique()\n",
    "\n",
    "# Manually set the legend labels and titles to reflect the unique groups\n",
    "plt.legend(title='Cohort', labels=unique_labels, loc='upper right', title_fontsize='13', fontsize='11')\n",
    "\n",
    "# Add a grid for better readability\n",
    "plt.grid(axis='y')\n",
    "\n",
    "# Show the plot\n",
    "plt.show()"
   ]
  },
  {
   "cell_type": "markdown",
   "id": "87d67381-efb4-4e9a-9392-8aa73a0813ff",
   "metadata": {},
   "source": [
    "## RQ2 Does improved regularity in activity improve better end-of-course grades?"
   ]
  },
  {
   "cell_type": "code",
   "execution_count": null,
   "id": "c5bb812e-70e7-466f-9a00-8994028116e3",
   "metadata": {},
   "outputs": [],
   "source": [
    "fs = glob.glob('C:/Users/Katharina Teich/Desktop/Moodle Logdaten_for Conrad/RQ2/Checks (Quizze)/*')"
   ]
  },
  {
   "cell_type": "code",
   "execution_count": null,
   "id": "0495ed22-a221-4181-b966-08d7391c3d36",
   "metadata": {},
   "outputs": [],
   "source": [
    "dfs = []\n",
    "for f in fs:\n",
    "    tmp = pd.read_excel(f)\n",
    "    tmp['cohort'] = f.split('Kohorte ')[-1].split('_')[0]\n",
    "    tmp['user'] = tmp['User'] + '-' + tmp['cohort']\n",
    "    dfs.append(tmp)\n",
    "df_outcome = pd.concat(dfs)"
   ]
  },
  {
   "cell_type": "code",
   "execution_count": null,
   "id": "7d70d28e-fc66-4081-af19-0dc34548847e",
   "metadata": {},
   "outputs": [],
   "source": [
    "df_valid = df2.groupby(['user', 'phase'])['time_diff'].median().reset_index()\n",
    "df_valid = df_valid[df_valid['phase'].isin(['Lernphase 1', 'Lernphase 2'])].copy()"
   ]
  },
  {
   "cell_type": "code",
   "execution_count": null,
   "id": "4bde11b0-ca4a-4130-89e9-6604ea9f9616",
   "metadata": {},
   "outputs": [],
   "source": [
    "import pandas as pd\n",
    "import numpy as np\n",
    "\n",
    "# Define the maximum points for each quiz\n",
    "max_points = {\n",
    "    'Check 1': 12,\n",
    "    'Check 2': 12,\n",
    "    'Check 3': 27,\n",
    "    'Check 4': 13,\n",
    "    'Check 5': 16,\n",
    "    'Check 6': 9\n",
    "}\n",
    "\n",
    "# Function to convert to numeric and divide by max points\n",
    "def standardize(x, max_val):\n",
    "    return pd.to_numeric(x, errors='coerce') / max_val\n",
    "\n",
    "# Apply standardization to each quiz column\n",
    "for quiz, max_val in max_points.items():\n",
    "    df_outcome[quiz] = df_outcome[quiz].replace('-', np.nan)\n",
    "    df_outcome[quiz] = standardize(df_outcome[quiz], max_val)\n",
    "\n",
    "# Perform mean imputation for NA values\n",
    "check_columns = [c for c in df_outcome.columns if 'Check' in c]\n",
    "\n",
    "# Perform mean imputation column-wise for these columns\n",
    "df_outcome[check_columns] = df_outcome[check_columns].apply(lambda col: col.fillna(col.mean()), axis=0)"
   ]
  },
  {
   "cell_type": "code",
   "execution_count": null,
   "id": "38c420ea-a9f6-457b-b425-ba74227e687a",
   "metadata": {},
   "outputs": [],
   "source": [
    "# Average score per course segment\n",
    "df_outcome['Lernphase 1'] = (df_outcome['Check 1'].map(float) + df_outcome['Check 2'].map(float) + df_outcome['Check 3'].map(float))/3\n",
    "df_outcome['Lernphase 2'] = (df_outcome['Check 4'].map(float) + df_outcome['Check 5'].map(float) + df_outcome['Check 6'].map(float))/3"
   ]
  },
  {
   "cell_type": "code",
   "execution_count": null,
   "id": "86a1e68e-9aea-4d69-ac86-1eb51e9934a0",
   "metadata": {},
   "outputs": [],
   "source": [
    "df_melt = df_outcome[['user', 'Lernphase 1', 'Lernphase 2']]"
   ]
  },
  {
   "cell_type": "code",
   "execution_count": null,
   "id": "76bb0a0c-f00b-4112-99d7-b63fe656db20",
   "metadata": {},
   "outputs": [],
   "source": [
    "import pandas as pd\n",
    "\n",
    "df_join = df_melt.melt(\n",
    "    id_vars=['user'],\n",
    "    value_vars=['Lernphase 1', 'Lernphase 2'],\n",
    "    var_name='phase',\n",
    "    value_name='outcome'\n",
    ")\n",
    " "
   ]
  },
  {
   "cell_type": "code",
   "execution_count": null,
   "id": "06d78a8c-8f29-4893-96ad-961c38ce0c87",
   "metadata": {},
   "outputs": [],
   "source": [
    "df_valid_full = df_valid.merge(df_join, how='left', on=['user', 'phase']).copy()"
   ]
  },
  {
   "cell_type": "code",
   "execution_count": null,
   "id": "47f0461a-8743-47aa-ba4b-baa7da0773f5",
   "metadata": {},
   "outputs": [],
   "source": [
    "df_valid_full['time_diff'] = np.log1p(df_valid_full['time_diff'])"
   ]
  },
  {
   "cell_type": "code",
   "execution_count": null,
   "id": "b76090e3-6547-4ff8-8230-21d57a48a2de",
   "metadata": {},
   "outputs": [],
   "source": [
    "df_valid_full['time_diff_scaled'] = ((df_valid_full.time_diff) - np.mean(df_valid_full.time_diff)) / (np.std(df_valid_full.time_diff))"
   ]
  },
  {
   "cell_type": "code",
   "execution_count": null,
   "id": "c9b936a5-ec7d-4d85-a4d2-f1ad4fa81e7d",
   "metadata": {},
   "outputs": [],
   "source": [
    "df_valid_full['outcome_scaled'] = ((df_valid_full.outcome) - np.mean(df_valid_full.outcome)) / (np.std(df_valid_full.outcome))"
   ]
  },
  {
   "cell_type": "markdown",
   "id": "d027cc9c-f873-4e01-b011-153ad2216a59",
   "metadata": {},
   "source": [
    "## Grade prediction model"
   ]
  },
  {
   "cell_type": "code",
   "execution_count": null,
   "id": "c853d31b-dd66-4eca-af1e-683c019eadbc",
   "metadata": {},
   "outputs": [],
   "source": [
    "import statsmodels.api as sm\n",
    "import statsmodels.formula.api as smf\n",
    "\n",
    "# Make sure 'user' is treated as a categorical variable\n",
    "['user'] = df_valid_full['user'].astype('category')\n",
    "\n",
    "# Fit the linear mixed-effects model\n",
    "model = smf.mixedlm(\"outcome_scaled ~ time_diff_scaled\", data=df_valid_full, groups=\"user\")\n",
    "result = model.fit()\n",
    "\n",
    "# Print the summary of the model\n",
    "print(result.summary())\n"
   ]
  },
  {
   "cell_type": "markdown",
   "id": "0b5e2644-3961-43f3-90ef-a66055aa2ffc",
   "metadata": {},
   "source": [
    "## Scatter plot"
   ]
  },
  {
   "cell_type": "code",
   "execution_count": null,
   "id": "54286914-b677-46af-b17d-a8baa27cc202",
   "metadata": {},
   "outputs": [],
   "source": [
    "import matplotlib.pyplot as plt\n",
    "\n",
    "# Set up the plot with larger figure size for better resolution\n",
    "plt.figure(figsize=(8, 6))\n",
    "\n",
    "# Create the scatter plot\n",
    "plt.plot(df_valid_full['time_diff_scaled'], df_valid_full['outcome'], 'o', markersize=4, alpha=0.8)\n",
    "\n",
    "# Set x-axis and y-axis labels with proper descriptions\n",
    "plt.xlabel('Regularity in Activity (Log Scale, Z-Score)', fontsize=12)\n",
    "plt.ylabel('Percentage Correct on Quizzes', fontsize=12)\n",
    "\n",
    "# Set y-axis to range from 0 to 1 with proper ticks\n",
    "plt.ylim(0, 1)\n",
    "plt.yticks(ticks=[0, 0.2, 0.4, 0.6, 0.8, 1.0], labels=['0%', '20%', '40%', '60%', '80%', '100%'], fontsize=10)\n",
    "\n",
    "# Add grid for better readability\n",
    "plt.grid(True, linestyle='--', alpha=0.6)\n",
    "\n",
    "# Add a title\n",
    "plt.title('Relationship Between Regularity in Activity and Quiz Performance', fontsize=14)\n",
    "\n",
    "# Customize tick sizes for better readability\n",
    "plt.xticks(fontsize=10)\n",
    "plt.yticks(fontsize=10)\n",
    "\n",
    "# Optional: Add a legend\n",
    "plt.legend(loc='upper left', fontsize=10)\n",
    "\n",
    "# Add a tight layout for better spacing\n",
    "plt.tight_layout()\n",
    "\n",
    "# Save the plot for publication if needed\n",
    "plt.savefig('regularity_vs_quiz_performance.png', dpi=300)\n",
    "\n",
    "# Show the plot\n",
    "plt.show()\n"
   ]
  }
 ],
 "metadata": {
  "kernelspec": {
   "display_name": "Python 3 (ipykernel)",
   "language": "python",
   "name": "python3"
  },
  "language_info": {
   "codemirror_mode": {
    "name": "ipython",
    "version": 3
   },
   "file_extension": ".py",
   "mimetype": "text/x-python",
   "name": "python",
   "nbconvert_exporter": "python",
   "pygments_lexer": "ipython3",
   "version": "3.10.14"
  }
 },
 "nbformat": 4,
 "nbformat_minor": 5
}
